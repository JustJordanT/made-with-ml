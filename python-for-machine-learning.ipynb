{
 "cells": [
  {
   "cell_type": "code",
   "execution_count": 1,
   "id": "initial_id",
   "metadata": {
    "collapsed": true,
    "ExecuteTime": {
     "end_time": "2024-03-21T21:41:36.470549Z",
     "start_time": "2024-03-21T21:41:36.466461Z"
    }
   },
   "outputs": [
    {
     "name": "stdout",
     "output_type": "stream",
     "text": [
      "5\n",
      "<class 'int'>\n"
     ]
    }
   ],
   "source": [
    "# Integer variable\n",
    "x = 5\n",
    "print (x)\n",
    "print (type(x))"
   ]
  },
  {
   "cell_type": "code",
   "outputs": [
    {
     "name": "stdout",
     "output_type": "stream",
     "text": [
      "hello\n",
      "<class 'str'>\n"
     ]
    }
   ],
   "source": [
    "# String variable\n",
    "x = \"hello\"\n",
    "print (x)\n",
    "print (type(x))"
   ],
   "metadata": {
    "collapsed": false,
    "ExecuteTime": {
     "end_time": "2024-03-21T21:41:47.029497Z",
     "start_time": "2024-03-21T21:41:47.027038Z"
    }
   },
   "id": "3b1d0277c3f73296",
   "execution_count": 2
  },
  {
   "cell_type": "code",
   "outputs": [
    {
     "name": "stdout",
     "output_type": "stream",
     "text": [
      "5 <class 'int'>\n"
     ]
    }
   ],
   "source": [
    "# int variable\n",
    "x = 5\n",
    "print (x, type(x))"
   ],
   "metadata": {
    "collapsed": false,
    "ExecuteTime": {
     "end_time": "2024-03-21T21:41:56.324049Z",
     "start_time": "2024-03-21T21:41:56.321618Z"
    }
   },
   "id": "cda619ffcd95a2fd",
   "execution_count": 3
  },
  {
   "cell_type": "code",
   "outputs": [
    {
     "name": "stdout",
     "output_type": "stream",
     "text": [
      "5.0 <class 'float'>\n"
     ]
    }
   ],
   "source": [
    "# float variable\n",
    "x = 5.0\n",
    "print (x, type(x))"
   ],
   "metadata": {
    "collapsed": false,
    "ExecuteTime": {
     "end_time": "2024-03-21T21:42:15.044206Z",
     "start_time": "2024-03-21T21:42:15.039398Z"
    }
   },
   "id": "933239dcd5adeab1",
   "execution_count": 4
  },
  {
   "cell_type": "code",
   "outputs": [
    {
     "name": "stdout",
     "output_type": "stream",
     "text": [
      "5 <class 'str'>\n"
     ]
    }
   ],
   "source": [
    "# text variable\n",
    "x = \"5\"\n",
    "print (x, type(x))"
   ],
   "metadata": {
    "collapsed": false,
    "ExecuteTime": {
     "end_time": "2024-03-21T21:42:22.033806Z",
     "start_time": "2024-03-21T21:42:22.031754Z"
    }
   },
   "id": "4ff0e291222cf997",
   "execution_count": 5
  },
  {
   "cell_type": "code",
   "outputs": [
    {
     "name": "stdout",
     "output_type": "stream",
     "text": [
      "True <class 'bool'>\n"
     ]
    }
   ],
   "source": [
    "# boolean variable\n",
    "x = True\n",
    "print (x, type(x))\n"
   ],
   "metadata": {
    "collapsed": false,
    "ExecuteTime": {
     "end_time": "2024-03-21T21:42:27.773736Z",
     "start_time": "2024-03-21T21:42:27.771458Z"
    }
   },
   "id": "fa0ccd9290ed9a3e",
   "execution_count": 6
  },
  {
   "cell_type": "code",
   "outputs": [
    {
     "name": "stdout",
     "output_type": "stream",
     "text": [
      "3\n"
     ]
    }
   ],
   "source": [
    "# Variables can be used with each other\n",
    "a = 1\n",
    "b = 2\n",
    "c = a + b\n",
    "print (c)"
   ],
   "metadata": {
    "collapsed": false,
    "ExecuteTime": {
     "end_time": "2024-03-21T21:42:34.484579Z",
     "start_time": "2024-03-21T21:42:34.451530Z"
    }
   },
   "id": "849f78a2703c9c3b",
   "execution_count": 7
  },
  {
   "cell_type": "markdown",
   "source": [
    "# Lists"
   ],
   "metadata": {
    "collapsed": false
   },
   "id": "2a82c5709b7c7636"
  },
  {
   "cell_type": "code",
   "outputs": [
    {
     "name": "stdout",
     "output_type": "stream",
     "text": [
      "[3, 'hello', 1.2]\n"
     ]
    }
   ],
   "source": [
    "# Creating a list\n",
    "x = [3, \"hello\", 1.2]\n",
    "print (x)"
   ],
   "metadata": {
    "collapsed": false,
    "ExecuteTime": {
     "end_time": "2024-03-21T21:43:19.167349Z",
     "start_time": "2024-03-21T21:43:19.162169Z"
    }
   },
   "id": "d1298af456381134",
   "execution_count": 8
  },
  {
   "cell_type": "code",
   "outputs": [
    {
     "data": {
      "text/plain": "3"
     },
     "execution_count": 9,
     "metadata": {},
     "output_type": "execute_result"
    }
   ],
   "source": [
    "# Length of a list\n",
    "len(x)\n"
   ],
   "metadata": {
    "collapsed": false,
    "ExecuteTime": {
     "end_time": "2024-03-21T21:43:46.298024Z",
     "start_time": "2024-03-21T21:43:46.289300Z"
    }
   },
   "id": "dae64276adef92cd",
   "execution_count": 9
  },
  {
   "cell_type": "code",
   "outputs": [
    {
     "name": "stdout",
     "output_type": "stream",
     "text": [
      "[3, 'hello', 1.2, 7]\n",
      "4\n"
     ]
    }
   ],
   "source": [
    "# Adding to a list\n",
    "x.append(7)\n",
    "print (x)\n",
    "print (len(x))"
   ],
   "metadata": {
    "collapsed": false,
    "ExecuteTime": {
     "end_time": "2024-03-21T21:44:06.305905Z",
     "start_time": "2024-03-21T21:44:06.303807Z"
    }
   },
   "id": "e3c873463ba37ffa",
   "execution_count": 10
  },
  {
   "cell_type": "code",
   "outputs": [
    {
     "name": "stdout",
     "output_type": "stream",
     "text": [
      "[3, 'bye', 1.2, 7]\n"
     ]
    }
   ],
   "source": [
    "# Replacing items in a list\n",
    "x[1] = \"bye\"\n",
    "print (x)"
   ],
   "metadata": {
    "collapsed": false,
    "ExecuteTime": {
     "end_time": "2024-03-21T21:44:12.771121Z",
     "start_time": "2024-03-21T21:44:12.768631Z"
    }
   },
   "id": "f2fe75067e88cfc9",
   "execution_count": 11
  },
  {
   "cell_type": "code",
   "outputs": [
    {
     "name": "stdout",
     "output_type": "stream",
     "text": [
      "[3, 'bye', 1.2, 7, 2.4, 'world']\n"
     ]
    }
   ],
   "source": [
    "# Operations\n",
    "y = [2.4, \"world\"]\n",
    "z = x + y\n",
    "print (z)"
   ],
   "metadata": {
    "collapsed": false,
    "ExecuteTime": {
     "end_time": "2024-03-21T21:44:18.414522Z",
     "start_time": "2024-03-21T21:44:18.411837Z"
    }
   },
   "id": "6268c3c2d99d0177",
   "execution_count": 12
  },
  {
   "cell_type": "markdown",
   "source": [
    "# Tuples"
   ],
   "metadata": {
    "collapsed": false
   },
   "id": "61e54177a8daef0"
  },
  {
   "cell_type": "code",
   "outputs": [
    {
     "name": "stdout",
     "output_type": "stream",
     "text": [
      "(3.0, 'hello')\n"
     ]
    }
   ],
   "source": [
    "# Creating a tuple\n",
    "x = (3.0, \"hello\") # tuples start and end with ()\n",
    "print (x)"
   ],
   "metadata": {
    "collapsed": false,
    "ExecuteTime": {
     "end_time": "2024-03-21T21:44:27.131278Z",
     "start_time": "2024-03-21T21:44:27.129026Z"
    }
   },
   "id": "5f1f1ff07efa21e3",
   "execution_count": 13
  },
  {
   "cell_type": "code",
   "outputs": [
    {
     "name": "stdout",
     "output_type": "stream",
     "text": [
      "(3.0, 'hello', 5.6, 4)\n"
     ]
    }
   ],
   "source": [
    "# Adding values to a tuple\n",
    "x = x + (5.6, 4)\n",
    "print (x)"
   ],
   "metadata": {
    "collapsed": false,
    "ExecuteTime": {
     "end_time": "2024-03-21T21:44:34.824142Z",
     "start_time": "2024-03-21T21:44:34.822100Z"
    }
   },
   "id": "974055a8b2d12d46",
   "execution_count": 14
  },
  {
   "cell_type": "code",
   "outputs": [
    {
     "ename": "TypeError",
     "evalue": "'tuple' object does not support item assignment",
     "output_type": "error",
     "traceback": [
      "\u001B[0;31m---------------------------------------------------------------------------\u001B[0m",
      "\u001B[0;31mTypeError\u001B[0m                                 Traceback (most recent call last)",
      "Cell \u001B[0;32mIn[15], line 2\u001B[0m\n\u001B[1;32m      1\u001B[0m \u001B[38;5;66;03m# Try to change (it won't work and we get an error)\u001B[39;00m\n\u001B[0;32m----> 2\u001B[0m x[\u001B[38;5;241m0\u001B[39m] \u001B[38;5;241m=\u001B[39m \u001B[38;5;241m1.2\u001B[39m\n",
      "\u001B[0;31mTypeError\u001B[0m: 'tuple' object does not support item assignment"
     ]
    }
   ],
   "source": [
    "# Try to change (it won't work and we get an error)\n",
    "x[0] = 1.2"
   ],
   "metadata": {
    "collapsed": false,
    "ExecuteTime": {
     "end_time": "2024-03-21T21:44:40.330519Z",
     "start_time": "2024-03-21T21:44:40.123217Z"
    }
   },
   "id": "b507ae4c3da129c6",
   "execution_count": 15
  },
  {
   "cell_type": "markdown",
   "source": [
    "# Sets"
   ],
   "metadata": {
    "collapsed": false
   },
   "id": "774efcb4cff649e0"
  },
  {
   "cell_type": "code",
   "outputs": [
    {
     "name": "stdout",
     "output_type": "stream",
     "text": [
      "{'n', ' ', 'i', 'L', 'r', 'e', 'a', 'M', 'd', 'W', 'h', 'w', 't'}\n",
      "{'Learn', 'ML', 'With', 'Made', 'with'}\n"
     ]
    }
   ],
   "source": [
    "# Sets\n",
    "text = \"Learn ML with Made With ML\"\n",
    "print (set(text))\n",
    "print (set(text.split(\" \")))"
   ],
   "metadata": {
    "collapsed": false,
    "ExecuteTime": {
     "end_time": "2024-03-21T21:46:21.228563Z",
     "start_time": "2024-03-21T21:46:21.223630Z"
    }
   },
   "id": "a412bd4c29e5692c",
   "execution_count": 16
  },
  {
   "cell_type": "markdown",
   "source": [
    "# Indexing"
   ],
   "metadata": {
    "collapsed": false
   },
   "id": "57b8d2fc4807fc08"
  },
  {
   "cell_type": "code",
   "outputs": [
    {
     "name": "stdout",
     "output_type": "stream",
     "text": [
      "x[0]:  3\n",
      "x[1]:  hello\n",
      "x[-1]:  1.2\n",
      "x[-2]:  hello\n"
     ]
    }
   ],
   "source": [
    "# Indexing\n",
    "x = [3, \"hello\", 1.2]\n",
    "print (\"x[0]: \", x[0])\n",
    "print (\"x[1]: \", x[1])\n",
    "print (\"x[-1]: \", x[-1]) # the last item\n",
    "print (\"x[-2]: \", x[-2]) # the second to last item"
   ],
   "metadata": {
    "collapsed": false,
    "ExecuteTime": {
     "end_time": "2024-03-21T21:47:55.607057Z",
     "start_time": "2024-03-21T21:47:55.602616Z"
    }
   },
   "id": "4b45e092136e108f",
   "execution_count": 17
  },
  {
   "cell_type": "code",
   "outputs": [
    {
     "name": "stdout",
     "output_type": "stream",
     "text": [
      "x[:]:  [3, 'hello', 1.2]\n",
      "x[1:]:  ['hello', 1.2]\n",
      "x[1:2]:  ['hello']\n",
      "x[:-1]:  [3, 'hello']\n"
     ]
    }
   ],
   "source": [
    "# Slicing\n",
    "print (\"x[:]: \", x[:]) # all indices\n",
    "print (\"x[1:]: \", x[1:]) # index 1 to the end of the list\n",
    "print (\"x[1:2]: \", x[1:2]) # index 1 to index 2 (not including index 2)\n",
    "print (\"x[:-1]: \", x[:-1]) # index 0 to last index (not including last index)"
   ],
   "metadata": {
    "collapsed": false,
    "ExecuteTime": {
     "end_time": "2024-03-21T21:48:09.983900Z",
     "start_time": "2024-03-21T21:48:09.981363Z"
    }
   },
   "id": "2766b12276fde9b6",
   "execution_count": 18
  },
  {
   "cell_type": "markdown",
   "source": [
    "# Dictionaries\n",
    "Dictionaries are an unordered, mutable collection of key-value pairs. You can retrieve values based on the key and a dictionary cannot have two of the same keys."
   ],
   "metadata": {
    "collapsed": false
   },
   "id": "79efc2aaa435cf58"
  },
  {
   "cell_type": "code",
   "outputs": [
    {
     "name": "stdout",
     "output_type": "stream",
     "text": [
      "{'name': 'Goku', 'eye_color': 'brown'}\n",
      "Goku\n",
      "brown\n"
     ]
    }
   ],
   "source": [
    "# Creating a dictionary\n",
    "person = {\"name\": \"Goku\",\n",
    "          \"eye_color\": \"brown\"}\n",
    "print (person)\n",
    "print (person[\"name\"])\n",
    "print (person[\"eye_color\"])"
   ],
   "metadata": {
    "collapsed": false,
    "ExecuteTime": {
     "end_time": "2024-03-21T21:48:34.518331Z",
     "start_time": "2024-03-21T21:48:34.515202Z"
    }
   },
   "id": "b8785a219a457842",
   "execution_count": 19
  },
  {
   "cell_type": "code",
   "outputs": [
    {
     "name": "stdout",
     "output_type": "stream",
     "text": [
      "{'name': 'Goku', 'eye_color': 'green'}\n"
     ]
    }
   ],
   "source": [
    "# Changing the value for a key\n",
    "person[\"eye_color\"] = \"green\"\n",
    "print (person)"
   ],
   "metadata": {
    "collapsed": false,
    "ExecuteTime": {
     "end_time": "2024-03-21T21:48:56.861072Z",
     "start_time": "2024-03-21T21:48:56.858872Z"
    }
   },
   "id": "744e9fef66ab3763",
   "execution_count": 20
  },
  {
   "cell_type": "code",
   "outputs": [
    {
     "name": "stdout",
     "output_type": "stream",
     "text": [
      "{'name': 'Goku', 'eye_color': 'green', 'age': 24}\n"
     ]
    }
   ],
   "source": [
    "# Adding new key-value pairs\n",
    "person[\"age\"] = 24\n",
    "print (person)"
   ],
   "metadata": {
    "collapsed": false,
    "ExecuteTime": {
     "end_time": "2024-03-21T21:49:04.411379Z",
     "start_time": "2024-03-21T21:49:04.409354Z"
    }
   },
   "id": "7a1fcb8e92b89ef0",
   "execution_count": 21
  },
  {
   "cell_type": "code",
   "outputs": [
    {
     "name": "stdout",
     "output_type": "stream",
     "text": [
      "3\n"
     ]
    }
   ],
   "source": [
    "# Length of a dictionary\n",
    "print (len(person))"
   ],
   "metadata": {
    "collapsed": false,
    "ExecuteTime": {
     "end_time": "2024-03-21T21:49:16.835582Z",
     "start_time": "2024-03-21T21:49:16.831343Z"
    }
   },
   "id": "a5449f74abf5c895",
   "execution_count": 22
  },
  {
   "cell_type": "code",
   "outputs": [],
   "source": [
    "from collections import OrderedDict"
   ],
   "metadata": {
    "collapsed": false,
    "ExecuteTime": {
     "end_time": "2024-03-21T21:49:37.159783Z",
     "start_time": "2024-03-21T21:49:37.157718Z"
    }
   },
   "id": "f90f9c51f6b1a0e8",
   "execution_count": 23
  },
  {
   "cell_type": "code",
   "outputs": [
    {
     "name": "stdout",
     "output_type": "stream",
     "text": [
      "{'a': 2, 'c': 3, 'b': 1}\n"
     ]
    }
   ],
   "source": [
    "# Native dict\n",
    "d = {}\n",
    "d[\"a\"] = 2\n",
    "d[\"c\"] = 3\n",
    "d[\"b\"] = 1\n",
    "print (d)"
   ],
   "metadata": {
    "collapsed": false,
    "ExecuteTime": {
     "end_time": "2024-03-21T21:49:58.001827Z",
     "start_time": "2024-03-21T21:49:57.999631Z"
    }
   },
   "id": "c9df313f0fb63235",
   "execution_count": 25
  },
  {
   "cell_type": "code",
   "outputs": [
    {
     "name": "stdout",
     "output_type": "stream",
     "text": [
      "dict_items([('a', 2), ('c', 3), ('b', 1)])\n"
     ]
    }
   ],
   "source": [
    "# Dictionary items\n",
    "print (d.items())"
   ],
   "metadata": {
    "collapsed": false,
    "ExecuteTime": {
     "end_time": "2024-03-21T21:50:03.649972Z",
     "start_time": "2024-03-21T21:50:03.648108Z"
    }
   },
   "id": "ef617100fdaa347",
   "execution_count": 26
  },
  {
   "cell_type": "code",
   "outputs": [
    {
     "name": "stdout",
     "output_type": "stream",
     "text": [
      "OrderedDict([('a', 2), ('b', 1), ('c', 3)])\n"
     ]
    }
   ],
   "source": [
    "# Order by keys\n",
    "print (OrderedDict(sorted(d.items())))\n"
   ],
   "metadata": {
    "collapsed": false,
    "ExecuteTime": {
     "end_time": "2024-03-21T21:50:17.147355Z",
     "start_time": "2024-03-21T21:50:17.142796Z"
    }
   },
   "id": "da60fc133e27400d",
   "execution_count": 27
  },
  {
   "cell_type": "code",
   "outputs": [
    {
     "name": "stdout",
     "output_type": "stream",
     "text": [
      "OrderedDict([('b', 1), ('a', 2), ('c', 3)])\n"
     ]
    }
   ],
   "source": [
    "# Order by values\n",
    "print (OrderedDict(sorted(d.items(), key=lambda x: x[1])))"
   ],
   "metadata": {
    "collapsed": false,
    "ExecuteTime": {
     "end_time": "2024-03-21T21:50:37.309597Z",
     "start_time": "2024-03-21T21:50:37.307779Z"
    }
   },
   "id": "84cbb95119159f8",
   "execution_count": 28
  },
  {
   "cell_type": "markdown",
   "source": [
    "# If statements\n",
    "We can use if statements to conditionally do something. The conditions are defined by the words if, elif (which stands for else if) and else. We can have as many elif statements as we want. The indented code below each condition is the code that will execute if the condition is True."
   ],
   "metadata": {
    "collapsed": false
   },
   "id": "fad2f1ceb00e5f75"
  },
  {
   "cell_type": "code",
   "outputs": [
    {
     "name": "stdout",
     "output_type": "stream",
     "text": [
      "medium\n"
     ]
    }
   ],
   "source": [
    "# If statement\n",
    "x = 4\n",
    "if x < 1:\n",
    "    score = \"low\"\n",
    "elif x <= 4: # elif = else if\n",
    "    score = \"medium\"\n",
    "else:\n",
    "    score = \"high\"\n",
    "print (score)"
   ],
   "metadata": {
    "collapsed": false,
    "ExecuteTime": {
     "end_time": "2024-03-21T21:51:39.056028Z",
     "start_time": "2024-03-21T21:51:39.051666Z"
    }
   },
   "id": "429dd27da2625519",
   "execution_count": 29
  },
  {
   "cell_type": "code",
   "outputs": [
    {
     "name": "stdout",
     "output_type": "stream",
     "text": [
      "it worked\n"
     ]
    }
   ],
   "source": [
    "# If statement with a boolean\n",
    "x = True\n",
    "if x:\n",
    "    print (\"it worked\")"
   ],
   "metadata": {
    "collapsed": false,
    "ExecuteTime": {
     "end_time": "2024-03-21T21:51:48.598428Z",
     "start_time": "2024-03-21T21:51:48.596377Z"
    }
   },
   "id": "1a13b4c1d2db9aa1",
   "execution_count": 30
  },
  {
   "cell_type": "markdown",
   "source": [
    "# For loops\n",
    "A for loop can iterate over a collection of values (lists, tuples, dictionaries, etc.) The indented code is executed for each item in the collection of values."
   ],
   "metadata": {
    "collapsed": false
   },
   "id": "eb8bc3d8a6bdee09"
  },
  {
   "cell_type": "code",
   "outputs": [
    {
     "name": "stdout",
     "output_type": "stream",
     "text": [
      "carrots\n",
      "broccoli\n",
      "beans\n"
     ]
    }
   ],
   "source": [
    "# For loop\n",
    "veggies = [\"carrots\", \"broccoli\", \"beans\"]\n",
    "for veggie in veggies:\n",
    "    print (veggie)"
   ],
   "metadata": {
    "collapsed": false,
    "ExecuteTime": {
     "end_time": "2024-03-21T21:52:29.684703Z",
     "start_time": "2024-03-21T21:52:29.680378Z"
    }
   },
   "id": "8c29ae5acaa1aa30",
   "execution_count": 32
  },
  {
   "cell_type": "code",
   "outputs": [
    {
     "name": "stdout",
     "output_type": "stream",
     "text": [
      "carrots\n"
     ]
    }
   ],
   "source": [
    "# `break` from a for loop\n",
    "veggies = [\"carrots\", \"broccoli\", \"beans\"]\n",
    "for veggie in veggies:\n",
    "    if veggie == \"broccoli\":\n",
    "        break\n",
    "    print (veggie)"
   ],
   "metadata": {
    "collapsed": false,
    "ExecuteTime": {
     "end_time": "2024-03-21T21:52:42.284173Z",
     "start_time": "2024-03-21T21:52:42.281734Z"
    }
   },
   "id": "cd2d71f1569c2163",
   "execution_count": 33
  },
  {
   "cell_type": "code",
   "outputs": [
    {
     "name": "stdout",
     "output_type": "stream",
     "text": [
      "carrots\n",
      "beans\n"
     ]
    }
   ],
   "source": [
    "# `continue` to the next iteration\n",
    "veggies = [\"carrots\", \"broccoli\", \"beans\"]\n",
    "for veggie in veggies:\n",
    "    if veggie == \"broccoli\":\n",
    "        continue\n",
    "    print (veggie)"
   ],
   "metadata": {
    "collapsed": false,
    "ExecuteTime": {
     "end_time": "2024-03-21T21:52:51.557224Z",
     "start_time": "2024-03-21T21:52:51.552104Z"
    }
   },
   "id": "5dab0009b532b65",
   "execution_count": 34
  },
  {
   "cell_type": "code",
   "outputs": [
    {
     "name": "stdout",
     "output_type": "stream",
     "text": [
      "2\n",
      "1\n",
      "0\n"
     ]
    }
   ],
   "source": [
    "# While loop\n",
    "x = 3\n",
    "while x > 0:\n",
    "    x -= 1 # same as x = x - 1\n",
    "    print (x)"
   ],
   "metadata": {
    "collapsed": false,
    "ExecuteTime": {
     "end_time": "2024-03-21T21:53:06.668615Z",
     "start_time": "2024-03-21T21:53:06.664838Z"
    }
   },
   "id": "454955b0161b2c00",
   "execution_count": 35
  },
  {
   "cell_type": "markdown",
   "source": [
    "# List comprehension\n",
    "We can combine our knowledge of lists and for loops to leverage list comprehensions to create succinct code."
   ],
   "metadata": {
    "collapsed": false
   },
   "id": "ab3b6449e5dea898"
  },
  {
   "cell_type": "code",
   "outputs": [
    {
     "name": "stdout",
     "output_type": "stream",
     "text": [
      "[3, 4, 5, 9, 8, 19]\n"
     ]
    }
   ],
   "source": [
    "# For loop\n",
    "x = [1, 2, 3, 4, 5, 9, 8, 19]\n",
    "y = []\n",
    "for item in x:\n",
    "    if item > 2:\n",
    "        y.append(item)\n",
    "print (y)"
   ],
   "metadata": {
    "collapsed": false,
    "ExecuteTime": {
     "end_time": "2024-03-21T21:54:26.801857Z",
     "start_time": "2024-03-21T21:54:26.799096Z"
    }
   },
   "id": "a0d0861bba4db4d",
   "execution_count": 40
  },
  {
   "cell_type": "code",
   "outputs": [
    {
     "name": "stdout",
     "output_type": "stream",
     "text": [
      "[3, 4, 5, 9, 8, 19]\n"
     ]
    }
   ],
   "source": [
    "# List comprehension\n",
    "y = [item for item in x if item > 2]\n",
    "print (y)"
   ],
   "metadata": {
    "collapsed": false,
    "ExecuteTime": {
     "end_time": "2024-03-21T21:54:27.433981Z",
     "start_time": "2024-03-21T21:54:27.432012Z"
    }
   },
   "id": "7d45565707be6fc4",
   "execution_count": 41
  },
  {
   "cell_type": "code",
   "outputs": [
    {
     "name": "stdout",
     "output_type": "stream",
     "text": [
      "[9, 8, 19]\n"
     ]
    }
   ],
   "source": [
    "x = [item for item in y if item > 5]\n",
    "print (x)"
   ],
   "metadata": {
    "collapsed": false,
    "ExecuteTime": {
     "end_time": "2024-03-21T21:58:39.957248Z",
     "start_time": "2024-03-21T21:58:39.955270Z"
    }
   },
   "id": "8a65f6aa7ab2cfd",
   "execution_count": 43
  },
  {
   "cell_type": "markdown",
   "source": [
    "# Functions\n",
    "Functions are a way to modularize reusable pieces of code. They're defined by the keyword def which stands for definition and they can have the following components."
   ],
   "metadata": {
    "collapsed": false
   },
   "id": "8941eac8583323c8"
  },
  {
   "cell_type": "code",
   "outputs": [],
   "source": [
    "# Define the function\n",
    "def add_two(x):\n",
    "    \"\"\"Increase x by 2.\"\"\"\n",
    "    x += 2\n",
    "    return x"
   ],
   "metadata": {
    "collapsed": false,
    "ExecuteTime": {
     "end_time": "2024-03-21T22:02:05.550532Z",
     "start_time": "2024-03-21T22:02:05.546455Z"
    }
   },
   "id": "6b2c8f32beaa9395",
   "execution_count": 44
  },
  {
   "cell_type": "code",
   "outputs": [
    {
     "name": "stdout",
     "output_type": "stream",
     "text": [
      "2\n"
     ]
    }
   ],
   "source": [
    "# Use the function\n",
    "score = 0\n",
    "new_score = add_two(x=score)\n",
    "print (new_score)"
   ],
   "metadata": {
    "collapsed": false,
    "ExecuteTime": {
     "end_time": "2024-03-21T22:02:17.822973Z",
     "start_time": "2024-03-21T22:02:17.820428Z"
    }
   },
   "id": "cddd5f557afd50ea",
   "execution_count": 45
  },
  {
   "cell_type": "code",
   "outputs": [],
   "source": [
    "# Function with multiple inputs\n",
    "def join_name(first_name, last_name):\n",
    "    \"\"\"Combine first name and last name.\"\"\"\n",
    "    joined_name = first_name + \" \" + last_name\n",
    "    return joined_name"
   ],
   "metadata": {
    "collapsed": false,
    "ExecuteTime": {
     "end_time": "2024-03-21T22:02:31.030070Z",
     "start_time": "2024-03-21T22:02:31.027943Z"
    }
   },
   "id": "2e7b6783e04b525b",
   "execution_count": 46
  },
  {
   "cell_type": "code",
   "outputs": [
    {
     "name": "stdout",
     "output_type": "stream",
     "text": [
      "Goku Mohandas\n"
     ]
    }
   ],
   "source": [
    "# Use the function\n",
    "first_name = \"Goku\"\n",
    "last_name = \"Mohandas\"\n",
    "joined_name = join_name(\n",
    "    first_name=first_name, last_name=last_name)\n",
    "print (joined_name)"
   ],
   "metadata": {
    "collapsed": false,
    "ExecuteTime": {
     "end_time": "2024-03-21T22:02:37.524212Z",
     "start_time": "2024-03-21T22:02:37.521836Z"
    }
   },
   "id": "8d305e7b1865032d",
   "execution_count": 47
  },
  {
   "cell_type": "markdown",
   "source": [
    "# Classes\n",
    "Classes are object constructors and are a fundamental component of object oriented programming in Python. They are composed of a set of functions that define the class and it's operations.\n",
    "\n",
    "# Magic methods\n",
    "Classes can be customized with magic methods like __init__ and __str__, to enable powerful operations. These are also known as dunder methods (ex. dunder init), which stands for double underscores due to the leading and trailing underscores.\n",
    "\n",
    "The __init__ function is used when an instance of the class is initialized."
   ],
   "metadata": {
    "collapsed": false
   },
   "id": "f77d7edf4ab9bed4"
  },
  {
   "cell_type": "code",
   "outputs": [],
   "source": [
    "# Creating the class\n",
    "class Pet(object):\n",
    "    \"\"\"Class object for a pet.\"\"\"\n",
    "\n",
    "    def __init__(self, species, name):\n",
    "        \"\"\"Initialize a Pet.\"\"\"\n",
    "        self.species = species\n",
    "        self.name = name"
   ],
   "metadata": {
    "collapsed": false,
    "ExecuteTime": {
     "end_time": "2024-03-21T22:03:56.169237Z",
     "start_time": "2024-03-21T22:03:56.165146Z"
    }
   },
   "id": "22f546e90fcb553d",
   "execution_count": 48
  },
  {
   "cell_type": "code",
   "outputs": [
    {
     "name": "stdout",
     "output_type": "stream",
     "text": [
      "<__main__.Pet object at 0x1104e73d0>\n",
      "Scooby\n"
     ]
    }
   ],
   "source": [
    "# Creating an instance of a class\n",
    "my_dog = Pet(species=\"dog\",\n",
    "             name=\"Scooby\")\n",
    "print (my_dog)\n",
    "print (my_dog.name)"
   ],
   "metadata": {
    "collapsed": false,
    "ExecuteTime": {
     "end_time": "2024-03-21T22:04:04.826772Z",
     "start_time": "2024-03-21T22:04:04.824701Z"
    }
   },
   "id": "1b857141214549",
   "execution_count": 49
  },
  {
   "cell_type": "code",
   "outputs": [],
   "source": [
    "# Creating the class\n",
    "# Creating the class\n",
    "class Pet(object):\n",
    "    \"\"\"Class object for a pet.\"\"\"\n",
    "\n",
    "    def __init__(self, species, name):\n",
    "        \"\"\"Initialize a Pet.\"\"\"\n",
    "        self.species = species\n",
    "        self.name = name\n",
    "\n",
    "    def __str__(self):\n",
    "        \"\"\"Output when printing an instance of a Pet.\"\"\"\n",
    "        return f\"{self.species} named {self.name}\""
   ],
   "metadata": {
    "collapsed": false,
    "ExecuteTime": {
     "end_time": "2024-03-21T22:05:03.556486Z",
     "start_time": "2024-03-21T22:05:03.553337Z"
    }
   },
   "id": "d77eb98c55b1f4b2",
   "execution_count": 51
  },
  {
   "cell_type": "code",
   "outputs": [
    {
     "name": "stdout",
     "output_type": "stream",
     "text": [
      "dog named Scooby\n",
      "Scooby\n"
     ]
    }
   ],
   "source": [
    "# Creating an instance of a class\n",
    "my_dog = Pet(species=\"dog\",\n",
    "             name=\"Scooby\")\n",
    "print (my_dog)\n",
    "print (my_dog.name)"
   ],
   "metadata": {
    "collapsed": false,
    "ExecuteTime": {
     "end_time": "2024-03-21T22:05:11.672354Z",
     "start_time": "2024-03-21T22:05:11.670018Z"
    }
   },
   "id": "3b6a79ec574a0a99",
   "execution_count": 52
  },
  {
   "cell_type": "code",
   "outputs": [],
   "source": [
    "# Creating the class\n",
    "class Pet(object):\n",
    "    \"\"\"Class object for a pet.\"\"\"\n",
    "\n",
    "    def __init__(self, species, name):\n",
    "        \"\"\"Initialize a Pet.\"\"\"\n",
    "        self.species = species\n",
    "        self.name = name\n",
    "\n",
    "    def __str__(self):\n",
    "        \"\"\"Output when printing an instance of a Pet.\"\"\"\n",
    "        return f\"{self.species} named {self.name}\"\n",
    "\n",
    "    def change_name(self, new_name):\n",
    "        \"\"\"Change the name of your Pet.\"\"\"\n",
    "        self.name = new_name"
   ],
   "metadata": {
    "collapsed": false,
    "ExecuteTime": {
     "end_time": "2024-03-21T22:23:42.746775Z",
     "start_time": "2024-03-21T22:23:42.741451Z"
    }
   },
   "id": "ea38dcd248e06db9",
   "execution_count": 62
  },
  {
   "cell_type": "code",
   "outputs": [
    {
     "name": "stdout",
     "output_type": "stream",
     "text": [
      "dog named Scooby\n",
      "Scooby\n"
     ]
    }
   ],
   "source": [
    "# Creating an instance of a class\n",
    "my_dog = Pet(species=\"dog\", name=\"Scooby\")\n",
    "print (my_dog)\n",
    "print (my_dog.name)"
   ],
   "metadata": {
    "collapsed": false,
    "ExecuteTime": {
     "end_time": "2024-03-21T22:23:43.241156Z",
     "start_time": "2024-03-21T22:23:43.239007Z"
    }
   },
   "id": "e9f5c49dc6908d58",
   "execution_count": 63
  },
  {
   "cell_type": "code",
   "outputs": [
    {
     "name": "stdout",
     "output_type": "stream",
     "text": [
      "dog named FooBar\n",
      "FooBar\n"
     ]
    }
   ],
   "source": [
    "# Using a class's function\n",
    "my_dog.change_name(new_name=\"FooBar\")\n",
    "print (my_dog)\n",
    "print (my_dog.name)"
   ],
   "metadata": {
    "collapsed": false,
    "ExecuteTime": {
     "end_time": "2024-03-21T22:23:43.737726Z",
     "start_time": "2024-03-21T22:23:43.735647Z"
    }
   },
   "id": "f3b484688b4d019b",
   "execution_count": 64
  },
  {
   "cell_type": "markdown",
   "source": [
    "# Inheritance\n",
    "We can also build classes on top of one another using inheritance, which allows us to inherit all the properties and methods from another class (the parent).\n"
   ],
   "metadata": {
    "collapsed": false
   },
   "id": "19851abbc6ba0bf1"
  },
  {
   "cell_type": "code",
   "outputs": [],
   "source": [
    "class Dog(Pet):\n",
    "    def __init__(self, name, breed):\n",
    "        super().__init__(species=\"dog\", name=name)\n",
    "        self.breed = breed\n",
    "\n",
    "    def __str__(self):\n",
    "        return f\"A {self.breed} doggo named {self.name}\""
   ],
   "metadata": {
    "collapsed": false,
    "ExecuteTime": {
     "end_time": "2024-03-21T22:23:45.714078Z",
     "start_time": "2024-03-21T22:23:45.711937Z"
    }
   },
   "id": "c60165c3ce4e996a",
   "execution_count": 65
  },
  {
   "cell_type": "code",
   "outputs": [
    {
     "name": "stdout",
     "output_type": "stream",
     "text": [
      "A Great Dane doggo named Scooby\n"
     ]
    }
   ],
   "source": [
    "scooby = Dog(breed=\"Great Dane\", name=\"Scooby\")\n",
    "print (scooby)"
   ],
   "metadata": {
    "collapsed": false,
    "ExecuteTime": {
     "end_time": "2024-03-21T22:24:36.697829Z",
     "start_time": "2024-03-21T22:24:36.695770Z"
    }
   },
   "id": "35b43ad4215f1735",
   "execution_count": 68
  },
  {
   "cell_type": "markdown",
   "source": [
    "# Methods\n",
    "There are two important decorator methods to know about when it comes to classes: @classmethod and @staticmethod. We'll learn about decorators in the next section below but these specific methods pertain to classes so we'll cover them here."
   ],
   "metadata": {
    "collapsed": false
   },
   "id": "9d67b4feaefe9ebf"
  },
  {
   "cell_type": "code",
   "outputs": [],
   "source": [
    "class Dog(Pet):\n",
    "    def __init__(self, name, breed):\n",
    "        super().__init__(species=\"dog\", name=name)\n",
    "        self.breed = breed\n",
    "\n",
    "    def __str__(self):\n",
    "        return f\"{self.breed} named {self.name}\"\n",
    "\n",
    "    @classmethod\n",
    "    def from_dict(cls, d):\n",
    "        return cls(name=d[\"name\"], breed=d[\"breed\"])\n",
    "\n",
    "    @staticmethod\n",
    "    def is_cute(breed):\n",
    "        return True  # all animals are cute!"
   ],
   "metadata": {
    "collapsed": false,
    "ExecuteTime": {
     "end_time": "2024-03-21T22:32:37.248723Z",
     "start_time": "2024-03-21T22:32:37.243242Z"
    }
   },
   "id": "b615602afe2e7b22",
   "execution_count": 69
  },
  {
   "cell_type": "code",
   "outputs": [
    {
     "name": "stdout",
     "output_type": "stream",
     "text": [
      "Border Collie named Cassie\n"
     ]
    }
   ],
   "source": [
    "# Create instance\n",
    "d = {\"name\": \"Cassie\", \"breed\": \"Border Collie\"}\n",
    "cassie = Dog.from_dict(d=d)\n",
    "print(cassie)"
   ],
   "metadata": {
    "collapsed": false,
    "ExecuteTime": {
     "end_time": "2024-03-21T22:33:10.731839Z",
     "start_time": "2024-03-21T22:33:10.719218Z"
    }
   },
   "id": "5c80bbeb3c1d21ca",
   "execution_count": 70
  },
  {
   "cell_type": "code",
   "outputs": [
    {
     "data": {
      "text/plain": "True"
     },
     "execution_count": 71,
     "metadata": {},
     "output_type": "execute_result"
    }
   ],
   "source": [
    "# Static method\n",
    "Dog.is_cute(breed=\"Border Collie\")"
   ],
   "metadata": {
    "collapsed": false,
    "ExecuteTime": {
     "end_time": "2024-03-21T22:33:17.953572Z",
     "start_time": "2024-03-21T22:33:17.951210Z"
    }
   },
   "id": "ae4b28b062c04b7d",
   "execution_count": 71
  },
  {
   "cell_type": "markdown",
   "source": [
    "# Decorators\n",
    "Recall that functions allow us to modularize code and reuse them. However, we'll often want to add some functionality before or after the main function executes and we may want to do this for many different functions. Instead of adding more code to the original function, we can use decorators!\n",
    "\n",
    "decorators: augment a function with pre/post-processing. Decorators wrap around the main function and allow us to operate on the inputs and or outputs.\n",
    "Suppose we have a function called operations which increments the input value x by 1."
   ],
   "metadata": {
    "collapsed": false
   },
   "id": "f8ed189735b5d379"
  },
  {
   "cell_type": "code",
   "outputs": [],
   "source": [
    "def operations(x):\n",
    "    \"\"\"Basic operations.\"\"\"\n",
    "    x += 1\n",
    "    return x"
   ],
   "metadata": {
    "collapsed": false,
    "ExecuteTime": {
     "end_time": "2024-03-21T22:34:35.778150Z",
     "start_time": "2024-03-21T22:34:35.774439Z"
    }
   },
   "id": "51ba130343a51d05",
   "execution_count": 72
  },
  {
   "cell_type": "code",
   "outputs": [
    {
     "data": {
      "text/plain": "2"
     },
     "execution_count": 73,
     "metadata": {},
     "output_type": "execute_result"
    }
   ],
   "source": [
    "operations(x=1)\n"
   ],
   "metadata": {
    "collapsed": false,
    "ExecuteTime": {
     "end_time": "2024-03-21T22:34:40.736973Z",
     "start_time": "2024-03-21T22:34:40.734447Z"
    }
   },
   "id": "cd15aeaea64c244",
   "execution_count": 73
  },
  {
   "cell_type": "code",
   "outputs": [],
   "source": [
    "def operations(x):\n",
    "    \"\"\"Basic operations.\"\"\"\n",
    "    x += 1\n",
    "    x += 1\n",
    "    x += 1\n",
    "    return x"
   ],
   "metadata": {
    "collapsed": false,
    "ExecuteTime": {
     "end_time": "2024-03-21T22:36:05.125927Z",
     "start_time": "2024-03-21T22:36:05.122477Z"
    }
   },
   "id": "42562a3b9f651b64",
   "execution_count": 74
  },
  {
   "cell_type": "code",
   "outputs": [
    {
     "data": {
      "text/plain": "4"
     },
     "execution_count": 75,
     "metadata": {},
     "output_type": "execute_result"
    }
   ],
   "source": [
    "operations(x=1)"
   ],
   "metadata": {
    "collapsed": false,
    "ExecuteTime": {
     "end_time": "2024-03-21T22:36:08.269769Z",
     "start_time": "2024-03-21T22:36:08.267017Z"
    }
   },
   "id": "b4c3c377970432f7",
   "execution_count": 75
  },
  {
   "cell_type": "markdown",
   "source": [
    "# Creating a decorator\n",
    "The decorator function accepts a function f which is the function we wish to wrap around, in our case, it's operations(). The output of the decorator is its wrapper function which receives the arguments and keyword arguments passed to function f.\n",
    "\n",
    "Inside the wrapper function, we can:\n",
    "\n",
    "extract the input parameters passed to function f.\n",
    "make any changes we want to the function inputs.\n",
    "function f is executed\n",
    "make any changes to the function outputs\n",
    "wrapper function returns some value(s), which is what the decorator returns as well since it returns wrapper."
   ],
   "metadata": {
    "collapsed": false
   },
   "id": "8c069935abc70474"
  },
  {
   "cell_type": "code",
   "outputs": [],
   "source": [
    "# Decorator\n",
    "def add(f):\n",
    "    def wrapper(*args, **kwargs):\n",
    "        \"\"\"Wrapper function for @add.\"\"\"\n",
    "        x = kwargs.pop(\"x\") # .get() if not altering x\n",
    "        x += 1 # executes before function f\n",
    "        x = f(*args, **kwargs, x=x)\n",
    "        x += 1 # executes after function f\n",
    "        return x\n",
    "    return wrapper"
   ],
   "metadata": {
    "collapsed": false,
    "ExecuteTime": {
     "end_time": "2024-03-21T22:37:01.571081Z",
     "start_time": "2024-03-21T22:37:01.567437Z"
    }
   },
   "id": "e5c4b0654a04a27e",
   "execution_count": 76
  },
  {
   "cell_type": "code",
   "outputs": [],
   "source": [
    "@add\n",
    "def operations(x):\n",
    "    \"\"\"Basic operations.\"\"\"\n",
    "    x += 1\n",
    "    return x"
   ],
   "metadata": {
    "collapsed": false,
    "ExecuteTime": {
     "end_time": "2024-03-21T22:40:13.424637Z",
     "start_time": "2024-03-21T22:40:13.388760Z"
    }
   },
   "id": "9ae42cd88abdb25d",
   "execution_count": 81
  },
  {
   "cell_type": "code",
   "outputs": [
    {
     "data": {
      "text/plain": "4"
     },
     "execution_count": 82,
     "metadata": {},
     "output_type": "execute_result"
    }
   ],
   "source": [
    "operations(x=1)\n"
   ],
   "metadata": {
    "collapsed": false,
    "ExecuteTime": {
     "end_time": "2024-03-21T22:40:13.701247Z",
     "start_time": "2024-03-21T22:40:13.698142Z"
    }
   },
   "id": "5530b84a4aa4d6c5",
   "execution_count": 82
  },
  {
   "cell_type": "code",
   "outputs": [
    {
     "data": {
      "text/plain": "('wrapper', 'Wrapper function for @add.')"
     },
     "execution_count": 83,
     "metadata": {},
     "output_type": "execute_result"
    }
   ],
   "source": [
    "operations.__name__, operations.__doc__\n"
   ],
   "metadata": {
    "collapsed": false,
    "ExecuteTime": {
     "end_time": "2024-03-21T22:40:31.700274Z",
     "start_time": "2024-03-21T22:40:31.695872Z"
    }
   },
   "id": "83d348bcfe48bd26",
   "execution_count": 83
  },
  {
   "cell_type": "code",
   "outputs": [],
   "source": [
    "from functools import wraps\n"
   ],
   "metadata": {
    "collapsed": false,
    "ExecuteTime": {
     "end_time": "2024-03-21T22:40:39.411543Z",
     "start_time": "2024-03-21T22:40:39.410019Z"
    }
   },
   "id": "e07ca3a069022ab4",
   "execution_count": 84
  },
  {
   "cell_type": "code",
   "outputs": [],
   "source": [
    "# Decorator\n",
    "def add(f):\n",
    "    @wraps(f)\n",
    "    def wrap(*args, **kwargs):\n",
    "        \"\"\"Wrapper function for @add.\"\"\"\n",
    "        x = kwargs.pop(\"x\")\n",
    "        x += 1\n",
    "        x = f(*args, **kwargs, x=x)\n",
    "        x += 1\n",
    "        return x\n",
    "    return wrap"
   ],
   "metadata": {
    "collapsed": false,
    "ExecuteTime": {
     "end_time": "2024-03-21T22:40:45.177617Z",
     "start_time": "2024-03-21T22:40:45.148893Z"
    }
   },
   "id": "444b0261cedd7ad0",
   "execution_count": 85
  },
  {
   "cell_type": "code",
   "outputs": [],
   "source": [
    "@add\n",
    "def operations(x):\n",
    "    \"\"\"Basic operations.\"\"\"\n",
    "    x += 1\n",
    "    return x"
   ],
   "metadata": {
    "collapsed": false,
    "ExecuteTime": {
     "end_time": "2024-03-21T22:40:51.629059Z",
     "start_time": "2024-03-21T22:40:51.627146Z"
    }
   },
   "id": "fdb787ad6d3d939d",
   "execution_count": 86
  },
  {
   "cell_type": "code",
   "outputs": [
    {
     "data": {
      "text/plain": "4"
     },
     "execution_count": 87,
     "metadata": {},
     "output_type": "execute_result"
    }
   ],
   "source": [
    "operations(x=1)"
   ],
   "metadata": {
    "collapsed": false,
    "ExecuteTime": {
     "end_time": "2024-03-21T22:40:53.731795Z",
     "start_time": "2024-03-21T22:40:53.729056Z"
    }
   },
   "id": "b1520cd759c7c97",
   "execution_count": 87
  },
  {
   "cell_type": "code",
   "outputs": [
    {
     "data": {
      "text/plain": "('operations', 'Basic operations.')"
     },
     "execution_count": 88,
     "metadata": {},
     "output_type": "execute_result"
    }
   ],
   "source": [
    "operations.__name__, operations.__doc__\n"
   ],
   "metadata": {
    "collapsed": false,
    "ExecuteTime": {
     "end_time": "2024-03-21T22:41:01.047316Z",
     "start_time": "2024-03-21T22:41:01.044554Z"
    }
   },
   "id": "d0bf8d7794de827b",
   "execution_count": 88
  },
  {
   "cell_type": "markdown",
   "source": [
    "# Callbacks\n",
    "Decorators allow for customized operations before and after the main function's execution but what about in between? Suppose we want to conditionally/situationally do some operations. Instead of writing a whole bunch of if-statements and make our functions bulky, we can use callbacks!\n",
    "\n",
    "callbacks: conditional/situational processing within the function.\n",
    "Our callbacks will be classes that have functions with key names that will execute at various periods during the main function's execution. The function names are up to us but we need to invoke the same callback functions within our main function."
   ],
   "metadata": {
    "collapsed": false
   },
   "id": "19358614037c7ca"
  },
  {
   "cell_type": "code",
   "outputs": [],
   "source": [
    "# Callback\n",
    "class x_tracker(object):\n",
    "    def __init__(self, x):\n",
    "        self.history = []\n",
    "    def at_start(self, x):\n",
    "        self.history.append(x)\n",
    "    def at_end(self, x):\n",
    "        self.history.append(x)"
   ],
   "metadata": {
    "collapsed": false,
    "ExecuteTime": {
     "end_time": "2024-03-21T22:41:51.221384Z",
     "start_time": "2024-03-21T22:41:51.216946Z"
    }
   },
   "id": "696065ff9d369d48",
   "execution_count": 89
  },
  {
   "cell_type": "code",
   "outputs": [],
   "source": [
    "def operations(x, callbacks=[]):\n",
    "    \"\"\"Basic operations.\"\"\"\n",
    "    for callback in callbacks:\n",
    "        callback.at_start(x)\n",
    "    x += 1\n",
    "    for callback in callbacks:\n",
    "        callback.at_end(x)\n",
    "    return x"
   ],
   "metadata": {
    "collapsed": false,
    "ExecuteTime": {
     "end_time": "2024-03-21T22:43:46.122126Z",
     "start_time": "2024-03-21T22:43:46.116906Z"
    }
   },
   "id": "8452738f6cafb2ba",
   "execution_count": 90
  },
  {
   "cell_type": "code",
   "outputs": [
    {
     "data": {
      "text/plain": "2"
     },
     "execution_count": 91,
     "metadata": {},
     "output_type": "execute_result"
    }
   ],
   "source": [
    "x = 1\n",
    "tracker = x_tracker(x=x)\n",
    "operations(x=x, callbacks=[tracker])"
   ],
   "metadata": {
    "collapsed": false,
    "ExecuteTime": {
     "end_time": "2024-03-21T22:43:51.676960Z",
     "start_time": "2024-03-21T22:43:51.674232Z"
    }
   },
   "id": "a8a19badde28c39f",
   "execution_count": 91
  },
  {
   "cell_type": "code",
   "outputs": [
    {
     "data": {
      "text/plain": "[1, 2]"
     },
     "execution_count": 92,
     "metadata": {},
     "output_type": "execute_result"
    }
   ],
   "source": [
    "tracker.history\n"
   ],
   "metadata": {
    "collapsed": false,
    "ExecuteTime": {
     "end_time": "2024-03-21T22:44:15.601642Z",
     "start_time": "2024-03-21T22:44:15.597414Z"
    }
   },
   "id": "41780bd7ccaac28d",
   "execution_count": 92
  },
  {
   "cell_type": "markdown",
   "source": [
    "# Putting it all together\n",
    "decorators + callbacks = powerful customization before, during and after the main function’s execution without increasing its complexity. We will be using this duo to create powerful ML training scripts that are highly customizable in future lessons."
   ],
   "metadata": {
    "collapsed": false
   },
   "id": "8efc70be29563914"
  },
  {
   "cell_type": "code",
   "outputs": [],
   "source": [
    "from functools import wraps"
   ],
   "metadata": {
    "collapsed": false,
    "ExecuteTime": {
     "end_time": "2024-03-21T22:45:40.258713Z",
     "start_time": "2024-03-21T22:45:40.255395Z"
    }
   },
   "id": "7bf717bed8b85a5b",
   "execution_count": 93
  },
  {
   "cell_type": "code",
   "outputs": [],
   "source": [
    "# Decorator\n",
    "def add(f):\n",
    "    @wraps(f)\n",
    "    def wrap(*args, **kwargs):\n",
    "        \"\"\"Wrapper function for @add.\"\"\"\n",
    "        x = kwargs.pop(\"x\") # .get() if not altering x\n",
    "        x += 1 # executes before function f\n",
    "        x = f(*args, **kwargs, x=x)\n",
    "        # can do things post function f as well\n",
    "        return x\n",
    "    return wrap\n",
    "# Callback\n",
    "class x_tracker(object):\n",
    "    def __init__(self, x):\n",
    "        self.history = [x]\n",
    "    def at_start(self, x):\n",
    "        self.history.append(x)\n",
    "    def at_end(self, x):\n",
    "        self.history.append(x)\n",
    "# Main function\n",
    "@add\n",
    "def operations(x, callbacks=[]):\n",
    "    \"\"\"Basic operations.\"\"\"\n",
    "    for callback in callbacks:\n",
    "        callback.at_start(x)\n",
    "    x += 1\n",
    "    for callback in callbacks:\n",
    "        callback.at_end(x)\n",
    "    return x"
   ],
   "metadata": {
    "collapsed": false,
    "ExecuteTime": {
     "end_time": "2024-03-21T22:45:54.222454Z",
     "start_time": "2024-03-21T22:45:54.217062Z"
    }
   },
   "id": "62d7d56652d92116",
   "execution_count": 94
  },
  {
   "cell_type": "code",
   "outputs": [
    {
     "data": {
      "text/plain": "3"
     },
     "execution_count": 95,
     "metadata": {},
     "output_type": "execute_result"
    }
   ],
   "source": [
    "x = 1\n",
    "tracker = x_tracker(x=x)\n",
    "operations(x=x, callbacks=[tracker])"
   ],
   "metadata": {
    "collapsed": false,
    "ExecuteTime": {
     "end_time": "2024-03-21T22:46:01.306003Z",
     "start_time": "2024-03-21T22:46:01.303579Z"
    }
   },
   "id": "cdeb7c9ec4a31a7b",
   "execution_count": 95
  },
  {
   "cell_type": "code",
   "outputs": [
    {
     "data": {
      "text/plain": "[1, 2, 3]"
     },
     "execution_count": 96,
     "metadata": {},
     "output_type": "execute_result"
    }
   ],
   "source": [
    "tracker.history\n"
   ],
   "metadata": {
    "collapsed": false,
    "ExecuteTime": {
     "end_time": "2024-03-21T22:46:06.020204Z",
     "start_time": "2024-03-21T22:46:06.017726Z"
    }
   },
   "id": "4ea3fb7df6e5c193",
   "execution_count": 96
  },
  {
   "cell_type": "code",
   "outputs": [],
   "source": [],
   "metadata": {
    "collapsed": false
   },
   "id": "c106ecdb866a238f"
  }
 ],
 "metadata": {
  "kernelspec": {
   "display_name": "Python 3",
   "language": "python",
   "name": "python3"
  },
  "language_info": {
   "codemirror_mode": {
    "name": "ipython",
    "version": 2
   },
   "file_extension": ".py",
   "mimetype": "text/x-python",
   "name": "python",
   "nbconvert_exporter": "python",
   "pygments_lexer": "ipython2",
   "version": "2.7.6"
  }
 },
 "nbformat": 4,
 "nbformat_minor": 5
}
